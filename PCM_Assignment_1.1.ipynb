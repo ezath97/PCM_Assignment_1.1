{
 "cells": [
  {
   "cell_type": "markdown",
   "id": "df89dcbe",
   "metadata": {},
   "source": [
    "# Data Types"
   ]
  },
  {
   "cell_type": "code",
   "execution_count": 4,
   "id": "9ac1b67d",
   "metadata": {},
   "outputs": [
    {
     "name": "stdout",
     "output_type": "stream",
     "text": [
      "11\n"
     ]
    }
   ],
   "source": [
    "# Q1-Write a Python program to calculate the length of a string\n",
    "\n",
    "String='Hello World'\n",
    "Length=len(String)\n",
    "print(Length)"
   ]
  },
  {
   "cell_type": "code",
   "execution_count": 12,
   "id": "93fa02de",
   "metadata": {},
   "outputs": [
    {
     "name": "stdout",
     "output_type": "stream",
     "text": [
      "Multiples of all items in the List is:  24\n"
     ]
    }
   ],
   "source": [
    "# Q2-Write a Python program to multiplies all the items in a list.\n",
    "\n",
    "List = [1,2,3,4]  \n",
    "Mul=1\n",
    "for i in List:\n",
    "    Mul*=i\n",
    "print('Multiples of all items in the List is: ',Mul)"
   ]
  },
  {
   "cell_type": "code",
   "execution_count": 17,
   "id": "d93ece92",
   "metadata": {},
   "outputs": [
    {
     "name": "stdout",
     "output_type": "stream",
     "text": [
      "{'c': 2, 'o': 3, 'n': 1}\n"
     ]
    }
   ],
   "source": [
    "# Q3-Write a Python program to count the number of characters (character frequency) in a string. Go to the editor\n",
    "   # Sample String : 'cocoon'\n",
    "   # Expected Result : {'c': 2, 'o': 3, 'n': 1}\n",
    "\n",
    "String='cocoon'\n",
    "D = {}  \n",
    "for n in String:  \n",
    "    letter = D.keys()  \n",
    "    if n in letter:  \n",
    "        D[n] += 1  \n",
    "    else:  \n",
    "        D[n] = 1  \n",
    "print(D)"
   ]
  },
  {
   "cell_type": "code",
   "execution_count": 3,
   "id": "a4a5fac3",
   "metadata": {
    "scrolled": true
   },
   "outputs": [
    {
     "name": "stdout",
     "output_type": "stream",
     "text": [
      "[1, 2, 3, 4, 5, 6, 7, 8, 9]\n"
     ]
    }
   ],
   "source": [
    "# Q4- Write a Python program to remove duplicates from a list.\n",
    "\n",
    "List = [1,2,3,4,5,6,7,6,3,2,5,9,8,3,4,2,5,3]  \n",
    "S=set(List)\n",
    "L2=list(S)\n",
    "print(L2)"
   ]
  },
  {
   "cell_type": "markdown",
   "id": "d4eb7b7a",
   "metadata": {},
   "source": [
    "# Operators"
   ]
  },
  {
   "cell_type": "code",
   "execution_count": 20,
   "id": "45b64e48",
   "metadata": {},
   "outputs": [
    {
     "name": "stdout",
     "output_type": "stream",
     "text": [
      "34\n",
      "45\n",
      "Sum: 79\n"
     ]
    }
   ],
   "source": [
    "# Q5-Python program to add two numbers\n",
    "\n",
    "num1=int(input())\n",
    "num2=int(input())\n",
    "sum = num1+num2\n",
    "print('Sum:',sum)"
   ]
  },
  {
   "cell_type": "code",
   "execution_count": 21,
   "id": "72eb0f47",
   "metadata": {},
   "outputs": [
    {
     "name": "stdout",
     "output_type": "stream",
     "text": [
      "Enter Length:2\n",
      "Enter Breadth:4\n",
      "Area: 8\n",
      "Perimeter: 12\n"
     ]
    }
   ],
   "source": [
    "# Q6-Python Program to find Area and Perimeter of Square and Rectangle\n",
    "\n",
    "L=int(input('Enter Length:'))\n",
    "B=int(input('Enter Breadth:'))\n",
    "area=L*B\n",
    "perimeter=2*(L+B)\n",
    "print('Area:',area)\n",
    "print('Perimeter:',perimeter)"
   ]
  },
  {
   "cell_type": "code",
   "execution_count": 30,
   "id": "921f7292",
   "metadata": {},
   "outputs": [
    {
     "name": "stdout",
     "output_type": "stream",
     "text": [
      "Principle Amount:120000\n",
      "Rate of interest:8\n",
      "Time (in years):2\n",
      "Simple Interest Amount: 19200\n"
     ]
    }
   ],
   "source": [
    "# Q7-Python Program to Find Simple Interest.\n",
    "\n",
    "\n",
    "P=int(input('Principle Amount:'))\n",
    "r=int(input('Rate of interest:'))\n",
    "t=int(input('Time (in years):'))\n",
    "S_I=(P*(1+((r/100)*t)))-P\n",
    "print('Simple Interest Amount:',int(S_I))"
   ]
  },
  {
   "cell_type": "code",
   "execution_count": 31,
   "id": "c22313a6",
   "metadata": {},
   "outputs": [
    {
     "name": "stdout",
     "output_type": "stream",
     "text": [
      "Enter Radius:5\n",
      "Area: 78.5\n"
     ]
    }
   ],
   "source": [
    "# Q8-Python Program for Program to find area of a circle\n",
    "\n",
    "R=int(input('Enter Radius:'))\n",
    "area=3.14*(R**2)\n",
    "print('Area:',area)"
   ]
  },
  {
   "cell_type": "markdown",
   "id": "a6b05f7b",
   "metadata": {},
   "source": [
    "# Conditional Statements"
   ]
  },
  {
   "cell_type": "code",
   "execution_count": 33,
   "id": "8261f3c2",
   "metadata": {},
   "outputs": [
    {
     "name": "stdout",
     "output_type": "stream",
     "text": [
      "Enter the age:14\n",
      "Candidate is not eligible to Vote\n"
     ]
    }
   ],
   "source": [
    "# Q9-Python Program to Check weather a candidate Eligible for Vote or not\n",
    "\n",
    "\n",
    "age=int(input('Enter the age:'))\n",
    "if age >= 18:\n",
    "    print('Candidate is eligible to Vote')\n",
    "elif age < 18:\n",
    "    print('Candidate is not eligible to Vote')\n",
    "else:\n",
    "    print('Please enter correct age')"
   ]
  },
  {
   "cell_type": "code",
   "execution_count": 35,
   "id": "ac6597e6",
   "metadata": {},
   "outputs": [
    {
     "name": "stdout",
     "output_type": "stream",
     "text": [
      "Enter Number:24\n",
      "Given Number is Even\n"
     ]
    }
   ],
   "source": [
    "# Q10-Python Program to check weather a given number is odd or Even\n",
    "\n",
    "num=int(input('Enter Number:'))\n",
    "if num%2==0:\n",
    "    print('Given Number is Even')\n",
    "else:\n",
    "    print('Given Number is Odd')"
   ]
  },
  {
   "cell_type": "code",
   "execution_count": 38,
   "id": "76bec54d",
   "metadata": {},
   "outputs": [
    {
     "name": "stdout",
     "output_type": "stream",
     "text": [
      "Enter Number:24\n",
      "Bye\n"
     ]
    }
   ],
   "source": [
    "# Q11-Write a program to display \"Hello\" if a number entered by user is a multiple of five , otherwise print \"Bye\".\n",
    "\n",
    "num=int(input('Enter Number:'))\n",
    "if num%5==0:\n",
    "    print('Hello')\n",
    "else:\n",
    "    print('Bye')"
   ]
  },
  {
   "cell_type": "code",
   "execution_count": 41,
   "id": "acee3125",
   "metadata": {},
   "outputs": [
    {
     "name": "stdout",
     "output_type": "stream",
     "text": [
      "Enter Number:6\n",
      "June & Number of days is 30\n"
     ]
    }
   ],
   "source": [
    "# Q12-Write a program to accept a number from 1 to 12 and display name of the month and \n",
    "# days in that month like 1 for January and number of days 31 and so on\n",
    "\n",
    "num=int(input('Enter Number:'))\n",
    "if num==1:\n",
    "    print('January & Number of days is 31')\n",
    "elif num==2:\n",
    "    print('February & Number of days is 28')\n",
    "elif num==3:\n",
    "    print('March & Number of days is 31')\n",
    "elif num==4:\n",
    "    print('April & Number of days is 30')\n",
    "elif num==5:\n",
    "    print('May & Number of days is 31')\n",
    "elif num==6:\n",
    "    print('June & Number of days is 30')\n",
    "elif num==7:\n",
    "    print('July & Number of days is 31')\n",
    "elif num==8:\n",
    "    print('August & Number of days is 31')\n",
    "elif num==9:\n",
    "    print('September & Number of days is 30')\n",
    "elif num==10:\n",
    "    print('October & Number of days is 31')\n",
    "elif num==11:\n",
    "    print('November & Number of days is 30')\n",
    "elif num==12:\n",
    "    print('December & Number of days is 31')\n",
    "else:\n",
    "    print('Please enter number from 1 to 12')"
   ]
  },
  {
   "cell_type": "markdown",
   "id": "4b0706ef",
   "metadata": {},
   "source": [
    "# Looping Statements"
   ]
  },
  {
   "cell_type": "code",
   "execution_count": 43,
   "id": "ac7b0ca6",
   "metadata": {},
   "outputs": [
    {
     "name": "stdout",
     "output_type": "stream",
     "text": [
      "Enter start number:0\n",
      "Enter end number:23\n",
      "2 3 5 7 11 13 17 19 23 "
     ]
    }
   ],
   "source": [
    "# Q13-Python program to print all Prime numbers in an Interval\n",
    "\n",
    "n1=int(input('Enter start number:'))\n",
    "n2=int(input('Enter end number:'))\n",
    "for num in range(n1,n2+1):\n",
    "    if num > 1:\n",
    "        for i in range(2, num):\n",
    "            if (num % i) == 0:\n",
    "                break\n",
    "        else:\n",
    "            print(num,end=' ')"
   ]
  },
  {
   "cell_type": "code",
   "execution_count": 44,
   "id": "0f085b43",
   "metadata": {},
   "outputs": [
    {
     "name": "stdout",
     "output_type": "stream",
     "text": [
      "0\n",
      "1\n",
      "2\n",
      "4\n",
      "5\n"
     ]
    }
   ],
   "source": [
    "# Q14-Write a Python program that prints all the numbers from 0 to 6 except 3 and 6\n",
    "\n",
    "for i in range(7):\n",
    "    if i!=3 and i!=6:\n",
    "        print(i)"
   ]
  },
  {
   "cell_type": "code",
   "execution_count": 45,
   "id": "ca39d89e",
   "metadata": {},
   "outputs": [
    {
     "name": "stdout",
     "output_type": "stream",
     "text": [
      "[1, 4, 9, 16]\n"
     ]
    }
   ],
   "source": [
    "# Q15-Write a program that appends the square of each number to a new list.\n",
    "\n",
    "List = [1,2,3,4] \n",
    "NList=[]\n",
    "for i in List:\n",
    "    NList.append(i**2)\n",
    "print(NList)"
   ]
  },
  {
   "cell_type": "code",
   "execution_count": 48,
   "id": "2b019ba1",
   "metadata": {},
   "outputs": [
    {
     "name": "stdout",
     "output_type": "stream",
     "text": [
      "121\n",
      "143\n",
      "165\n",
      "187\n",
      "209\n",
      "231\n",
      "253\n",
      "275\n",
      "297\n",
      "319\n",
      "341\n",
      "363\n",
      "385\n",
      "407\n",
      "429\n",
      "451\n",
      "473\n",
      "495\n"
     ]
    }
   ],
   "source": [
    "# Q16-Write a program to display all the numbers which are divisible by 11 but not by 2 between 100 and 500.\n",
    "\n",
    "for i in range(100,501):\n",
    "    if i%11==0 and i%2!=0:\n",
    "        print(i)"
   ]
  },
  {
   "cell_type": "markdown",
   "id": "401a2e09",
   "metadata": {},
   "source": [
    "# Functions"
   ]
  },
  {
   "cell_type": "code",
   "execution_count": 56,
   "id": "c62d5d68",
   "metadata": {},
   "outputs": [
    {
     "name": "stdout",
     "output_type": "stream",
     "text": [
      "WELCOME TO PYTHON\n"
     ]
    }
   ],
   "source": [
    "# Q17-Define a function that accepts lowercase words and returns uppercase words.\n",
    "\n",
    "def case_check(W):\n",
    "    if W.islower():\n",
    "        U=W.upper()\n",
    "        print(U)\n",
    "    else:\n",
    "        print('Please enter lowercase words')\n",
    "        \n",
    "x=case_check('welcome to python')"
   ]
  },
  {
   "cell_type": "code",
   "execution_count": 76,
   "id": "0f09aa6c",
   "metadata": {},
   "outputs": [
    {
     "name": "stdout",
     "output_type": "stream",
     "text": [
      "number 22 is falling in the given range\n"
     ]
    }
   ],
   "source": [
    "# Q18-Write a Python function to check whether a number falls in a given range\n",
    "\n",
    "def Num_check(num,n1,n2):\n",
    "    if num<n1:\n",
    "        print(f'number {num} is not falling in the given range')\n",
    "    elif n1<=num<=n2:\n",
    "        print(f'number {num} is falling in the given range')\n",
    "    elif num>n2:\n",
    "        print(f'number {num} is not falling in the given range')\n",
    "            \n",
    "x=Num_check(22,10,100)            "
   ]
  },
  {
   "cell_type": "code",
   "execution_count": 85,
   "id": "b894964a",
   "metadata": {},
   "outputs": [
    {
     "name": "stdout",
     "output_type": "stream",
     "text": [
      "pomogranate\n",
      "332\n"
     ]
    }
   ],
   "source": [
    "# Q19-Write a python function that Find the largest item from a given list\n",
    "\n",
    "def Large_item(L):\n",
    "    print(max(L))\n",
    "\n",
    "List=['apple','banana','pomogranate','fig']\n",
    "List2=[12,332,5,65,76]\n",
    "x=Large_item(List)\n",
    "y=Large_item(List2)\n",
    "    "
   ]
  },
  {
   "cell_type": "code",
   "execution_count": 96,
   "id": "f01d2180",
   "metadata": {},
   "outputs": [
    {
     "name": "stdout",
     "output_type": "stream",
     "text": [
      "Average value: 32.17\n"
     ]
    }
   ],
   "source": [
    "# Q20-Write a Python Function to find out the average of a set of integers\n",
    "\n",
    "Set={12,32,5,65,76,3}\n",
    "def Avg_set(S):\n",
    "    sum=0\n",
    "    count=0\n",
    "    for i in S:\n",
    "        sum+=i\n",
    "        count+=1\n",
    "    avg=sum/count\n",
    "    print('Average value:',\"%.2f\" % avg)\n",
    "\n",
    "x=Avg_set(Set)"
   ]
  },
  {
   "cell_type": "code",
   "execution_count": null,
   "id": "a80fe4da",
   "metadata": {},
   "outputs": [],
   "source": []
  }
 ],
 "metadata": {
  "kernelspec": {
   "display_name": "Python 3 (ipykernel)",
   "language": "python",
   "name": "python3"
  },
  "language_info": {
   "codemirror_mode": {
    "name": "ipython",
    "version": 3
   },
   "file_extension": ".py",
   "mimetype": "text/x-python",
   "name": "python",
   "nbconvert_exporter": "python",
   "pygments_lexer": "ipython3",
   "version": "3.9.13"
  }
 },
 "nbformat": 4,
 "nbformat_minor": 5
}
